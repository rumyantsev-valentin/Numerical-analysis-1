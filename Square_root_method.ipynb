{
 "cells": [
  {
   "cell_type": "code",
   "execution_count": 100,
   "metadata": {
    "collapsed": true
   },
   "outputs": [],
   "source": [
    "import numpy as np"
   ]
  },
  {
   "cell_type": "code",
   "execution_count": 101,
   "metadata": {
    "collapsed": false,
    "scrolled": true
   },
   "outputs": [],
   "source": [
    "#initial data\n",
    "A = np.array([[1.5,0.78,0.78,0.78],[0.78,1.5,0.24,-0.24],[0.78,0.24,1.93,-0.72],[0.78,-0.24,-0.72,2.03]])\n",
    "b = np.array([3.099,-1.767,4.187,-2.737])"
   ]
  },
  {
   "cell_type": "code",
   "execution_count": 102,
   "metadata": {
    "collapsed": false
   },
   "outputs": [],
   "source": [
    "#Cholesky decomposition\n",
    "n = len(A)\n",
    "L = np.zeros((n,n))\n",
    "for i in xrange(n):\n",
    "    for k in xrange(i+1):\n",
    "        tmp_sum = sum(L[i][j] * L[k][j] for j in xrange(k))\n",
    "        if (i == k):\n",
    "            L[i][k] = np.sqrt(A[i][i] - tmp_sum)\n",
    "        else:\n",
    "            L[i][k] = (1.0 / L[k][k] * (A[i][k] - tmp_sum))"
   ]
  },
  {
   "cell_type": "code",
   "execution_count": 103,
   "metadata": {
    "collapsed": false
   },
   "outputs": [
    {
     "name": "stdout",
     "output_type": "stream",
     "text": [
      "[[ 1.5   0.78  0.78  0.78]\n",
      " [ 0.78  1.5   0.24 -0.24]\n",
      " [ 0.78  0.24  1.93 -0.72]\n",
      " [ 0.78 -0.24 -0.72  2.03]] \n",
      "\n",
      "[[ 1.22474487  0.          0.          0.        ]\n",
      " [ 0.63686733  1.04613575  0.          0.        ]\n",
      " [ 0.63686733 -0.15829686  1.22447626  0.        ]\n",
      " [ 0.63686733 -0.61712832 -0.99903078  0.4954696 ]] \n",
      "\n",
      "[[ 1.22474487  0.63686733  0.63686733  0.63686733]\n",
      " [ 0.          1.04613575 -0.15829686 -0.61712832]\n",
      " [ 0.          0.          1.22447626 -0.99903078]\n",
      " [ 0.          0.          0.          0.4954696 ]] \n",
      "\n",
      "[[ 1.5   0.78  0.78  0.78]\n",
      " [ 0.78  1.5   0.24 -0.24]\n",
      " [ 0.78  0.24  1.93 -0.72]\n",
      " [ 0.78 -0.24 -0.72  2.03]]\n"
     ]
    }
   ],
   "source": [
    "#result of decomposition\n",
    "print A,\"\\n\"\n",
    "print L,\"\\n\"\n",
    "print L.T,\"\\n\"\n",
    "print np.dot(L,L.T)"
   ]
  },
  {
   "cell_type": "code",
   "execution_count": 104,
   "metadata": {
    "collapsed": false
   },
   "outputs": [
    {
     "name": "stdout",
     "output_type": "stream",
     "text": [
      "[ 2.5303229  -3.22948529  1.68586579 -9.3996786 ]\n"
     ]
    }
   ],
   "source": [
    "L1 = np.hstack((L,b[:, np.newaxis].reshape(4,1)))\n",
    "x = np.array([1.,1.,1.,1.,1.])\n",
    "for i in range(4):\n",
    "    s = np.sum(L1[i]*x)-L1[i,i]-L1[i,4]\n",
    "    x[i] = (L1[i,4]-s)/L1[i,i]\n",
    "x = x[:-1]\n",
    "print x"
   ]
  },
  {
   "cell_type": "code",
   "execution_count": 105,
   "metadata": {
    "collapsed": false
   },
   "outputs": [
    {
     "name": "stdout",
     "output_type": "stream",
     "text": [
      "[ 27.79820587 -16.41222123 -14.10153824 -18.97125182]\n"
     ]
    }
   ],
   "source": [
    "L2 = np.hstack((L.T,x[:, np.newaxis].reshape(4,1)))\n",
    "x1 = np.array([1.,1.,1.,1.,1.])\n",
    "for i in range(4):\n",
    "    s = np.sum(L2[3-i]*x1)-L2[3-i,3-i]-L2[3-i,4]\n",
    "    x1[3-i] = (L2[3-i,4]-s)/L2[3-i,3-i]\n",
    "x1 = x1[:-1]\n",
    "#result\n",
    "print x1"
   ]
  },
  {
   "cell_type": "code",
   "execution_count": 106,
   "metadata": {
    "collapsed": false
   },
   "outputs": [
    {
     "name": "stdout",
     "output_type": "stream",
     "text": [
      "[ 3.099 -1.767  4.187 -2.737]\n",
      "[ 3.099 -1.767  4.187 -2.737]\n"
     ]
    }
   ],
   "source": [
    "#test\n",
    "print np.dot(A,x1)\n",
    "print b"
   ]
  }
 ],
 "metadata": {
  "anaconda-cloud": {},
  "kernelspec": {
   "display_name": "Python [default]",
   "language": "python",
   "name": "python2"
  },
  "language_info": {
   "codemirror_mode": {
    "name": "ipython",
    "version": 2
   },
   "file_extension": ".py",
   "mimetype": "text/x-python",
   "name": "python",
   "nbconvert_exporter": "python",
   "pygments_lexer": "ipython2",
   "version": "2.7.12"
  }
 },
 "nbformat": 4,
 "nbformat_minor": 1
}
