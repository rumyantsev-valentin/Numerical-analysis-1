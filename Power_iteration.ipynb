{
 "cells": [
  {
   "cell_type": "code",
   "execution_count": 1,
   "metadata": {
    "collapsed": true
   },
   "outputs": [],
   "source": [
    "import numpy as np"
   ]
  },
  {
   "cell_type": "code",
   "execution_count": 54,
   "metadata": {
    "collapsed": true
   },
   "outputs": [],
   "source": [
    "#initial data\n",
    "A = np.array([[1.8832,-1.5564,-0.3245],[-1.5564,1.9911,-0.2518],[-0.3245,-0.2518,0.9738]])\n",
    "x1 = np.array([1,1,1])"
   ]
  },
  {
   "cell_type": "code",
   "execution_count": 55,
   "metadata": {
    "collapsed": false
   },
   "outputs": [],
   "source": [
    "#initial params\n",
    "eps = 1e-5\n",
    "k = 1\n",
    "l = [1,1,1]"
   ]
  },
  {
   "cell_type": "code",
   "execution_count": 56,
   "metadata": {
    "collapsed": false
   },
   "outputs": [
    {
     "name": "stdout",
     "output_type": "stream",
     "text": [
      "k       l1              l2              l3\n",
      "1      0.00230000      0.18290000      0.39750000\n",
      "2      -177.96650000      1.42428633      0.85606272\n",
      "3      3.14349514      4.10773080      1.17137237\n",
      "4      3.27808557      3.76879317      1.34532890\n",
      "5      3.41257338      3.58543359      1.63252157\n",
      "6      3.46643287      3.52519044      2.15025922\n",
      "7      3.48544126      3.50531222      2.75672221\n",
      "8      3.49194647      3.49866158      3.17887654\n",
      "9      3.49415341      3.49642246      3.37772791\n",
      "10      3.49490010      3.49566681      3.45417785\n",
      "11      3.49515252      3.49541159      3.48122727\n",
      "12      3.49523783      3.49532537      3.49051333\n",
      "13      3.49526665      3.49529623      3.49366805\n",
      "14      3.49527639      3.49528639      3.49473598\n"
     ]
    }
   ],
   "source": [
    "x1 = np.array([1,1,1])\n",
    "l = [1,1,1]\n",
    "print \"k       l1              l2              l3\"\n",
    "while (True):\n",
    "    x2 = np.dot(A,x1)\n",
    "    for i in range(3):\n",
    "        l[i] = x2[i]/x1[i]\n",
    "    l2 = l[0]\n",
    "    print \"{k}      {l1:.8f}      {l2:.8f}      {l3:.8f}\".format(k=k,l1=l[0],l2=l[1],l3=l[2])\n",
    "    if ((k!=1) and (np.abs(l2-l1)<=eps)):\n",
    "        break\n",
    "    x1 = np.copy(x2)\n",
    "    l1 = l2\n",
    "    k+= 1"
   ]
  }
 ],
 "metadata": {
  "anaconda-cloud": {},
  "kernelspec": {
   "display_name": "Python [default]",
   "language": "python",
   "name": "python2"
  },
  "language_info": {
   "codemirror_mode": {
    "name": "ipython",
    "version": 2
   },
   "file_extension": ".py",
   "mimetype": "text/x-python",
   "name": "python",
   "nbconvert_exporter": "python",
   "pygments_lexer": "ipython2",
   "version": "2.7.12"
  }
 },
 "nbformat": 4,
 "nbformat_minor": 1
}
