{
 "cells": [
  {
   "cell_type": "code",
   "execution_count": 192,
   "metadata": {
    "collapsed": true
   },
   "outputs": [],
   "source": [
    "import numpy as np"
   ]
  },
  {
   "cell_type": "code",
   "execution_count": 201,
   "metadata": {
    "collapsed": true
   },
   "outputs": [],
   "source": [
    "#initial data\n",
    "A = np.array([[1.8832,-1.5564,-0.3245],[-1.5564,1.9911,-0.2518],[-0.3245,-0.2518,0.9738]])\n",
    "eps = 1e-5"
   ]
  },
  {
   "cell_type": "code",
   "execution_count": 202,
   "metadata": {
    "collapsed": false
   },
   "outputs": [],
   "source": [
    "A1 = np.abs(np.copy(A))\n",
    "np.fill_diagonal(A1,0)\n",
    "x = np.unravel_index(A1.argmax(), A1.shape)\n",
    "A2 = np.zeros((3,3))\n",
    "k = 1"
   ]
  },
  {
   "cell_type": "code",
   "execution_count": 200,
   "metadata": {
    "collapsed": false
   },
   "outputs": [
    {
     "name": "stdout",
     "output_type": "stream",
     "text": [
      "1\n",
      "[[  3.79815237e-01  -4.44089210e-16  -4.08335046e-01]\n",
      " [ -2.22044605e-16   3.49448476e+00   4.43393780e-02]\n",
      " [ -4.08335046e-01   4.43393780e-02   9.73800000e-01]] \n",
      "\n",
      "2\n",
      "[[  1.71889819e-01   2.01195401e-02   7.28051194e-17]\n",
      " [  2.01195401e-02   3.49448476e+00   3.95118279e-02]\n",
      " [  3.46461494e-17   3.95118279e-02   1.18172542e+00]] \n",
      "\n",
      "3\n",
      "[[  1.71889819e-01   2.01166063e-02  -3.43577481e-04]\n",
      " [  2.01166063e-02   3.49515960e+00   1.16316015e-15]\n",
      " [ -3.43577481e-04   1.28364687e-15   1.18105058e+00]] \n",
      "\n",
      "4\n",
      "[[  1.71768053e-01   1.03667075e-14  -3.43571187e-04]\n",
      " [  1.05586113e-14   3.49528136e+00  -2.07964852e-06]\n",
      " [ -3.43571187e-04  -2.07964852e-06   1.18105058e+00]] \n",
      "\n",
      "5\n",
      "[[  1.71767936e-01  -7.07925382e-10   1.37177455e-14]\n",
      " [ -7.07925191e-10   3.49528136e+00  -2.07964840e-06]\n",
      " [  1.36755315e-14  -2.07964840e-06   1.18105070e+00]] \n",
      "\n"
     ]
    }
   ],
   "source": [
    "#1st method\n",
    "while(abs(A[x])>=eps):\n",
    "    d = np.sqrt((A[x[0],x[0]]-A[x[1],x[1]])**2+4*A[x]**2)\n",
    "    c = np.sqrt(0.5*(1+(np.abs(A[x[0],x[0]]-A[x[1],x[1]])/d)))\n",
    "    s = np.sign(A[x]*(A[x[0],x[0]]-A[x[1],x[1]]))*np.sqrt(0.5*(1-(np.abs(A[x[0],x[0]]-A[x[1],x[1]])/d)))\n",
    "    T = np.zeros((3,3))\n",
    "    np.fill_diagonal(T,1)\n",
    "    T[x[0],x[0]] = c\n",
    "    T[x[1],x[1]] = c\n",
    "    T[x] = -s\n",
    "    T[x[1],x[0]] = s\n",
    "    A2 = np.dot(T.T,np.dot(np.copy(A),T))\n",
    "    A = np.copy(A2)\n",
    "    print k\n",
    "    print A,\"\\n\"\n",
    "    k += 1\n",
    "    A1 = np.abs(np.copy(A))\n",
    "    np.fill_diagonal(A1,0)\n",
    "    x = np.unravel_index(A1.argmax(), A1.shape)"
   ]
  },
  {
   "cell_type": "code",
   "execution_count": 203,
   "metadata": {
    "collapsed": false,
    "scrolled": false
   },
   "outputs": [
    {
     "name": "stdout",
     "output_type": "stream",
     "text": [
      "1\n",
      "[[ 0.37981524  0.         -0.40833505]\n",
      " [ 0.          3.49448476  0.04433938]\n",
      " [-0.40833505  0.04433938  0.9738    ]] \n",
      "\n",
      "2\n",
      "[[ 0.17188982  0.02011954  0.        ]\n",
      " [ 0.02011954  3.49448476  0.03951183]\n",
      " [ 0.          0.03951183  1.18172542]] \n",
      "\n",
      "3\n",
      "[[  1.71889819e-01   2.01166063e-02  -3.43577481e-04]\n",
      " [  2.01166063e-02   3.49515960e+00   0.00000000e+00]\n",
      " [ -3.43577481e-04   0.00000000e+00   1.18105058e+00]] \n",
      "\n",
      "4\n",
      "[[  1.71768053e-01   0.00000000e+00  -3.43571187e-04]\n",
      " [  0.00000000e+00   3.49528136e+00  -2.07964852e-06]\n",
      " [ -3.43571187e-04  -2.07964852e-06   1.18105058e+00]] \n",
      "\n",
      "5\n",
      "[[  1.71767936e-01  -7.07935750e-10   0.00000000e+00]\n",
      " [ -7.07935750e-10   3.49528136e+00  -2.07964840e-06]\n",
      " [  0.00000000e+00  -2.07964840e-06   1.18105070e+00]] \n",
      "\n"
     ]
    }
   ],
   "source": [
    "#2nd method\n",
    "while(abs(A[x])>=eps):\n",
    "    d = np.sqrt((A[x[0],x[0]]-A[x[1],x[1]])**2+4*A[x]**2)\n",
    "    c = np.sqrt(0.5*(1+(np.abs(A[x[0],x[0]]-A[x[1],x[1]])/d)))\n",
    "    s = np.sign(A[x]*(A[x[0],x[0]]-A[x[1],x[1]]))*np.sqrt(0.5*(1-(np.abs(A[x[0],x[0]]-A[x[1],x[1]])/d)))\n",
    "    for i in range(3):\n",
    "        for j in range(3):\n",
    "            if ((i!=x[0]) and (i!=x[1]) and (j!=x[0]) and (j!=x[1])):\n",
    "                A2[i,j] = A[i,j]\n",
    "            elif ((j==x[0]) and (i!=x[0]) and (i!=x[1])):\n",
    "                A2[i,j] = c*A[i,x[0]]+s*A[i,x[1]]\n",
    "            elif ((i==x[0]) and (j!=x[0]) and (j!=x[1])):\n",
    "                A2[i,j] = c*A[x[0],j]+s*A[x[1],j]\n",
    "            elif ((j==x[1]) and (i!=x[0]) and (i!=x[1])):\n",
    "                A2[i,j] = c*A[i,x[1]]-s*A[i,x[0]]\n",
    "            elif ((i==x[1]) and (j!=x[0]) and (j!=x[1])):\n",
    "                A2[i,j] = c*A[x[1],j]-s*A[x[0],j]\n",
    "    A2[x[0],x[0]] = (A[x[0],x[0]]+A[x[1],x[1]])/2+np.sign(A[x[0],x[0]]-A[x[1],x[1]])*d/2\n",
    "    A2[x[1],x[1]] = (A[x[0],x[0]]+A[x[1],x[1]])/2-np.sign(A[x[0],x[0]]-A[x[1],x[1]])*d/2\n",
    "    A2[x] = 0\n",
    "    A2[x[1],x[0]] = 0\n",
    "    A = np.copy(A2)\n",
    "    print k\n",
    "    print A,\"\\n\"\n",
    "    k += 1\n",
    "    A1 = np.abs(np.copy(A))\n",
    "    np.fill_diagonal(A1,0)\n",
    "    x = np.unravel_index(A1.argmax(), A1.shape)"
   ]
  },
  {
   "cell_type": "code",
   "execution_count": 204,
   "metadata": {
    "collapsed": false
   },
   "outputs": [
    {
     "name": "stdout",
     "output_type": "stream",
     "text": [
      "[ 0.17176794  3.49528136  1.1810507 ]\n"
     ]
    }
   ],
   "source": [
    "#result\n",
    "print np.diag(A)"
   ]
  }
 ],
 "metadata": {
  "anaconda-cloud": {},
  "kernelspec": {
   "display_name": "Python [default]",
   "language": "python",
   "name": "python2"
  },
  "language_info": {
   "codemirror_mode": {
    "name": "ipython",
    "version": 2
   },
   "file_extension": ".py",
   "mimetype": "text/x-python",
   "name": "python",
   "nbconvert_exporter": "python",
   "pygments_lexer": "ipython2",
   "version": "2.7.12"
  }
 },
 "nbformat": 4,
 "nbformat_minor": 1
}
