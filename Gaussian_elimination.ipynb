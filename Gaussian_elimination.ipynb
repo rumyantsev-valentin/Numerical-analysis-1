{
 "cells": [
  {
   "cell_type": "code",
   "execution_count": 95,
   "metadata": {
    "collapsed": true
   },
   "outputs": [],
   "source": [
    "import numpy as np\n",
    "from numpy import unravel_index"
   ]
  },
  {
   "cell_type": "code",
   "execution_count": 113,
   "metadata": {
    "collapsed": false
   },
   "outputs": [],
   "source": [
    "#initial data\n",
    "A = np.array([[5.11,-2.32,0.46,1.52,0],[1.17,-4.08,-3.25,3.25,2.34],[0,1.74,3.78,2.15,1.83],[0,2.34,2.05,-3.50,1.25],[0,0,1.82,2.67,-4.79]])\n",
    "b = np.array([6.0109,0.5958,16.1977,-0.7410,3.8015])\n",
    "A1 = np.hstack((A,b[:, np.newaxis].reshape(5,1)))\n",
    "b1 = []\n",
    "for i in range(A.shape[0]):\n",
    "    b1.append(float(\"{0:.5f}\".format(np.sum(A1[i]))))"
   ]
  },
  {
   "cell_type": "code",
   "execution_count": 110,
   "metadata": {
    "collapsed": false,
    "scrolled": false
   },
   "outputs": [
    {
     "name": "stdout",
     "output_type": "stream",
     "text": [
      "[[  5.11     -2.32      0.46      1.52      0.        6.0109 ]\n",
      " [  0.       -3.54881  -3.35532   2.90198   2.34     -0.78047]\n",
      " [  0.        0.        2.13487   3.57286   2.97731  15.81503]\n",
      " [  0.        0.        0.       -1.31468   3.01945  -0.05242]\n",
      " [  0.        0.        0.        0.       -8.19153  -9.666  ]]\n"
     ]
    }
   ],
   "source": [
    "#Forward Elimination\n",
    "for i in range(A.shape[1]-1):\n",
    "    for j in range(i+1,A.shape[1]):\n",
    "        s = A1[i]*(A1[j,i]/A1[i,i])\n",
    "        b1[j] -= np.sum(s)\n",
    "        A1[j] -= s\n",
    "        A1[j] = [0 if (abs(x)<1e-10) else float(\"{0:.5f}\".format(x)) for x in A1[j]]\n",
    "print A1"
   ]
  },
  {
   "cell_type": "code",
   "execution_count": 111,
   "metadata": {
    "collapsed": false
   },
   "outputs": [
    {
     "name": "stdout",
     "output_type": "stream",
     "text": [
      "[ 1.23000134  2.15000196  1.1599975   2.74999925  1.17999934]\n"
     ]
    }
   ],
   "source": [
    "#back substitution\n",
    "x = np.array([1.,1.,1.,1.,1.,1.])\n",
    "for i in range(5):\n",
    "    s = np.sum(A1[4-i]*x)-A1[4-i,4-i]-A1[4-i,5]\n",
    "    x[4-i] = (A1[4-i,5]-s)/A1[4-i,4-i]\n",
    "x = x[:-1]\n",
    "print x"
   ]
  },
  {
   "cell_type": "code",
   "execution_count": 114,
   "metadata": {
    "collapsed": false,
    "scrolled": true
   },
   "outputs": [
    {
     "name": "stdout",
     "output_type": "stream",
     "text": [
      "[[  5.11     -2.32      0.46      1.52      0.        6.0109 ]\n",
      " [  0.        0.        1.82      2.67     -4.79      3.8015 ]\n",
      " [  0.        1.74      4.47532   3.17006   0.       17.65005]\n",
      " [  0.       -2.58995   0.        5.95325   0.       10.80306]\n",
      " [  0.       -0.63934   0.        0.        0.       -1.37457]]\n"
     ]
    }
   ],
   "source": [
    "#Pivoting Method\n",
    "#Forward Elimination\n",
    "A2 = []\n",
    "for i in range(A.shape[1]):\n",
    "    k = unravel_index(abs(A1[:,:-1]).argmax(), A1[:,:-1].shape)\n",
    "    for j in range(A.shape[1]-i):\n",
    "        if k[0] != j:\n",
    "            s = A1[k[0]]*(A1[j,k[1]]/A1[k])\n",
    "            A1[j] -= s\n",
    "            A1[j] = [0 if (abs(x)<1e-10) else float(\"{0:.5f}\".format(x)) for x in A1[j]]\n",
    "    A2.append(A1[k[0]])\n",
    "    A1 = np.delete(A1, k[0], 0)\n",
    "A2 = np.array(A2)\n",
    "print A2"
   ]
  },
  {
   "cell_type": "code",
   "execution_count": 115,
   "metadata": {
    "collapsed": false,
    "scrolled": true
   },
   "outputs": [
    {
     "name": "stdout",
     "output_type": "stream",
     "text": [
      "[[  5.11      0.        0.46      1.52     -2.32      6.0109 ]\n",
      " [  0.       -4.79      1.82      2.67      0.        3.8015 ]\n",
      " [  0.        0.        4.47532   3.17006   1.74     17.65005]\n",
      " [  0.        0.        0.        5.95325  -2.58995  10.80306]\n",
      " [  0.        0.        0.        0.       -0.63934  -1.37457]]\n"
     ]
    }
   ],
   "source": [
    "#rearranging \n",
    "n = A2.shape[0]\n",
    "m = A2.shape[1]\n",
    "ind = range(n)\n",
    "for i in range(n):\n",
    "    for j in range(m-1):\n",
    "        if (A2[n-1-i,j]!=0):\n",
    "            temp = np.copy(A2[:, j])\n",
    "            A2[:, j] = A2[:, m-2-i]\n",
    "            A2[:, m-2-i] = temp\n",
    "            ind[j],ind[m-2-i] = ind[m-2-i],ind[j]\n",
    "            break\n",
    "print A2"
   ]
  },
  {
   "cell_type": "code",
   "execution_count": 116,
   "metadata": {
    "collapsed": false
   },
   "outputs": [
    {
     "name": "stdout",
     "output_type": "stream",
     "text": [
      "[ 1.22999247  2.14998279  1.16001329  2.74999503  1.18000228]\n"
     ]
    }
   ],
   "source": [
    "#back substitution\n",
    "x = np.array([1.,1.,1.,1.,1.,1.])\n",
    "for i in range(5):\n",
    "    s = np.sum(A2[4-i]*x)-A2[4-i,4-i]-A2[4-i,5]\n",
    "    x[4-i] = (A2[4-i,5]-s)/A2[4-i,4-i]\n",
    "x = x[:-1]\n",
    "x = x[ind]\n",
    "print x"
   ]
  },
  {
   "cell_type": "code",
   "execution_count": 117,
   "metadata": {
    "collapsed": false
   },
   "outputs": [
    {
     "name": "stdout",
     "output_type": "stream",
     "text": [
      "[  6.0109       0.5958074   16.1977138   -0.74099278   3.8015    ]\n",
      "[  6.0109   0.5958  16.1977  -0.741    3.8015]\n"
     ]
    }
   ],
   "source": [
    "#test\n",
    "print np.dot(A,x)\n",
    "print b"
   ]
  },
  {
   "cell_type": "code",
   "execution_count": 112,
   "metadata": {
    "collapsed": false
   },
   "outputs": [
    {
     "name": "stdout",
     "output_type": "stream",
     "text": [
      "[10.7809, -2.4426252446183954, 24.500070710181724, 1.6523499799047852, -17.857525681826598]\n",
      "[10.7809, -2.44262, 24.50007, 1.65235, -17.85753]\n"
     ]
    }
   ],
   "source": [
    "#control column\n",
    "b2 = []\n",
    "for i in range(A.shape[0]):\n",
    "    b2.append(float(\"{0:.5f}\".format(np.sum(A1[i]))))\n",
    "print b1\n",
    "print b2"
   ]
  }
 ],
 "metadata": {
  "anaconda-cloud": {},
  "kernelspec": {
   "display_name": "Python [conda root]",
   "language": "python",
   "name": "conda-root-py"
  },
  "language_info": {
   "codemirror_mode": {
    "name": "ipython",
    "version": 2
   },
   "file_extension": ".py",
   "mimetype": "text/x-python",
   "name": "python",
   "nbconvert_exporter": "python",
   "pygments_lexer": "ipython2",
   "version": "2.7.12"
  }
 },
 "nbformat": 4,
 "nbformat_minor": 1
}
