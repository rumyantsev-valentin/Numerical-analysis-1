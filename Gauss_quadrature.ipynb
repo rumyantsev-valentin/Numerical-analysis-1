{
 "cells": [
  {
   "cell_type": "code",
   "execution_count": 11,
   "metadata": {
    "collapsed": true
   },
   "outputs": [],
   "source": [
    "import numpy as np"
   ]
  },
  {
   "cell_type": "code",
   "execution_count": 12,
   "metadata": {
    "collapsed": true
   },
   "outputs": [],
   "source": [
    "a = np.array([])\n",
    "#lambda\n",
    "l = -0.53\n",
    "#moments\n",
    "for k in range(8):\n",
    "    a = np.append(a,(0.5**(l+k+1))/(l+k+1))"
   ]
  },
  {
   "cell_type": "code",
   "execution_count": 13,
   "metadata": {
    "collapsed": false
   },
   "outputs": [],
   "source": [
    "#solve the linear system\n",
    "m_coef_2 = np.array([[a[1],a[0]], [a[2],a[1]]])\n",
    "m_coef_4 = np.empty([4,4])\n",
    "for i in range(4):\n",
    "    m_coef_4[i] = [a[i+3],a[i+2],a[i+1],a[i]]\n",
    "m_values_2 = np.array([-a[2],-a[3]])\n",
    "m_values_4 = np.array([-a[4],-a[5],-a[6],-a[7]])\n",
    "a_2 = np.linalg.solve(m_coef_2, m_values_2)\n",
    "a_4 = np.linalg.solve(m_coef_4, m_values_4)"
   ]
  },
  {
   "cell_type": "code",
   "execution_count": 14,
   "metadata": {
    "collapsed": false,
    "scrolled": true
   },
   "outputs": [],
   "source": [
    "#nodes\n",
    "x_2 = np.array([0.0546108,0.36902])\n",
    "x_4 = np.array([0.0157687,0.136333,0.316154,0.460793])"
   ]
  },
  {
   "cell_type": "code",
   "execution_count": 15,
   "metadata": {
    "collapsed": false
   },
   "outputs": [],
   "source": [
    "#calculate the coefficients for nodes = 4\n",
    "coef4 = np.array([])\n",
    "for i in range(4):\n",
    "    x_4_i = np.array(x_4)\n",
    "    x_4_i[i] = 0\n",
    "    s = 0\n",
    "    s -= (x_4_i[0]*x_4_i[1]*x_4_i[2]+x_4_i[0]*x_4_i[1]*x_4_i[3]+x_4_i[0]*x_4_i[2]*x_4_i[3]+x_4_i[1]*x_4_i[2]*x_4_i[3])*a[0]\n",
    "    s += (x_4_i[0]*x_4_i[1]+x_4_i[0]*x_4_i[2]+x_4_i[0]*x_4_i[3]+x_4_i[1]*x_4_i[2]+x_4_i[1]*x_4_i[3]+x_4_i[2]*x_4_i[3])*a[1]\n",
    "    s -= (x_4_i[0]+x_4_i[1]+x_4_i[2]+x_4_i[3])*a[2]\n",
    "    s += a[3]\n",
    "    z = 1\n",
    "    for j in range(4):\n",
    "        if (j!=i):\n",
    "            z *= x_4[i]-x_4_i[j]\n",
    "    coef4 = np.append(coef4,s/z)"
   ]
  },
  {
   "cell_type": "code",
   "execution_count": 16,
   "metadata": {
    "collapsed": true
   },
   "outputs": [],
   "source": [
    "#calculate the coefficients for nodes = 2\n",
    "coef2 = np.array([])\n",
    "coef2 = np.append(coef2,(a[1]-x_2[1]*a[0])/(x_2[0]-x_2[1]))\n",
    "coef2 = np.append(coef2,(a[1]-x_2[0]*a[0])/(x_2[1]-x_2[0]))"
   ]
  },
  {
   "cell_type": "code",
   "execution_count": 33,
   "metadata": {
    "collapsed": false
   },
   "outputs": [
    {
     "name": "stdout",
     "output_type": "stream",
     "text": [
      "[ 0.0546108  0.36902  ] \n",
      "[ 0.0157687  0.136333   0.316154   0.460793 ]\n"
     ]
    }
   ],
   "source": [
    "#nodes for n=2 and n=4\n",
    "print x_2,\"\\n\",x_4"
   ]
  },
  {
   "cell_type": "code",
   "execution_count": 31,
   "metadata": {
    "collapsed": false,
    "scrolled": true
   },
   "outputs": [
    {
     "name": "stdout",
     "output_type": "stream",
     "text": [
      "[ 1.02186433  0.51423056] \n",
      "[ 0.58646841  0.474143    0.32786766  0.14761582]\n"
     ]
    }
   ],
   "source": [
    "#coefficients\n",
    "print coef2,\"\\n\",coef4"
   ]
  },
  {
   "cell_type": "code",
   "execution_count": 30,
   "metadata": {
    "collapsed": false
   },
   "outputs": [
    {
     "name": "stdout",
     "output_type": "stream",
     "text": [
      "1.49995415177 \n",
      "1.49997641317\n"
     ]
    }
   ],
   "source": [
    "#results for n=2 and n=4\n",
    "result2 = np.sum(coef2*np.cos(x_2))\n",
    "result4 = np.sum(coef4*np.cos(x_4))\n",
    "print result2,\"\\n\",result4"
   ]
  }
 ],
 "metadata": {
  "anaconda-cloud": {},
  "kernelspec": {
   "display_name": "Python [default]",
   "language": "python",
   "name": "python2"
  },
  "language_info": {
   "codemirror_mode": {
    "name": "ipython",
    "version": 2
   },
   "file_extension": ".py",
   "mimetype": "text/x-python",
   "name": "python",
   "nbconvert_exporter": "python",
   "pygments_lexer": "ipython2",
   "version": "2.7.12"
  }
 },
 "nbformat": 4,
 "nbformat_minor": 1
}
